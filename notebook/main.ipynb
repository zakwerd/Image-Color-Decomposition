{
 "cells": [
  {
   "cell_type": "code",
   "execution_count": null,
   "metadata": {},
   "outputs": [],
   "source": [
    "import image_selection\n",
    "from image_selection import select_image_file, extract_hsv_data\n",
    "from data_visualization import plot_hsv_values\n",
    "\n",
    "def main():\n",
    "    # user selects image from computer\n",
    "    image_path = select_image_file()\n",
    "    print(\"Selected image path:\", image_path)\n",
    "\n",
    "    if image_path:\n",
    "        # Image data is converted into a list of Hue, Saturation, and Value (HSV) Data\n",
    "        hsv_data = extract_hsv_data(image_path) #  using only a random selection of pixels\n",
    "        plot_hsv_values(hsv_data)\n",
    "\n",
    "    else:\n",
    "        print(\"No Image Selected\")\n",
    "\n",
    "if __name__ == \"__main__\":\n",
    "    main()"
   ]
  }
 ],
 "metadata": {
  "kernelspec": {
   "display_name": "Python 3",
   "language": "python",
   "name": "python3"
  },
  "language_info": {
   "codemirror_mode": {
    "name": "ipython",
    "version": 3
   },
   "file_extension": ".py",
   "mimetype": "text/x-python",
   "name": "python",
   "nbconvert_exporter": "python",
   "pygments_lexer": "ipython3",
   "version": "3.12.1"
  }
 },
 "nbformat": 4,
 "nbformat_minor": 2
}
