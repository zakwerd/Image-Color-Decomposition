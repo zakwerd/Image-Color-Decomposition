{
 "cells": [
  {
   "cell_type": "code",
   "execution_count": 1,
   "metadata": {},
   "outputs": [],
   "source": [
    "import tkinter as tk\n",
    "from tkinter import filedialog\n",
    "from PIL import Image\n",
    "import numpy as np\n",
    "import random\n",
    "import colorsys\n"
   ]
  },
  {
   "cell_type": "code",
   "execution_count": 2,
   "metadata": {},
   "outputs": [],
   "source": [
    "\n",
    "# Prompt the user to select an image file that is either a jpg, jpeg or png from\n",
    "# their computer\n",
    "def select_image_file():\n",
    "    # Initialize the Tkinter root window\n",
    "    root = tk.Tk()\n",
    "    # Hide the root window\n",
    "    root.withdraw()\n",
    "\n",
    "    # Specify the file types to allow (JPG and PNG)\n",
    "    filetypes = [\n",
    "        ('Image files', '*.jpg *.jpeg *.png'),\n",
    "        ('All files', '*.*')\n",
    "    ]\n",
    "\n",
    "    # Open the file dialog and allow the user to select an image file\n",
    "    file_path = filedialog.askopenfilename(title='Select an Image File', filetypes=filetypes)\n",
    "\n",
    "    # Return the selected file path\n",
    "    return file_path\n",
    "\n"
   ]
  },
  {
   "cell_type": "code",
   "execution_count": 3,
   "metadata": {},
   "outputs": [],
   "source": [
    "\n",
    "def extract_hsv_data(image_path):\n",
    "    # Load the image\n",
    "    img = Image.open(image_path)\n",
    "    \n",
    "    # Convert the image to RGB (if not already in RGB, e.g., if it's in palette mode)\n",
    "    img = img.convert('RGB')\n",
    "    \n",
    "    # Convert the image to a NumPy array for easier access to pixels\n",
    "    img_array = np.array(img)\n",
    "    \n",
    "    # Calculate a percentage of the pixels\n",
    "    total_pixels = img_array.shape[0] * img_array.shape[1]\n",
    "    sample_size = int(total_pixels * 0.001)\n",
    "    \n",
    "    # Generate random indices to sample pixels\n",
    "    indices = random.sample(range(total_pixels), sample_size)\n",
    "    \n",
    "    # Flatten the image array to make indexing easier\n",
    "    img_flat = img_array.reshape(-1, img_array.shape[-1])\n",
    "    \n",
    "    # Sample the pixels\n",
    "    sampled_pixels = img_flat[indices]\n",
    "    \n",
    "    # Convert sampled pixels from RGB to HSV\n",
    "    hsv_values = [colorsys.rgb_to_hsv(pixel[0]/255.0, pixel[1]/255.0, pixel[2]/255.0) for pixel in sampled_pixels]\n",
    "    \n",
    "    return hsv_values\n"
   ]
  },
  {
   "cell_type": "code",
   "execution_count": null,
   "metadata": {},
   "outputs": [],
   "source": [
    "\n",
    "def extract_hsv_data_from_all_pixels(image_path):\n",
    "    # Load the image\n",
    "    img = Image.open(image_path)\n",
    "    \n",
    "    # Convert the image to RGB (if not already in RGB, e.g., if it's in palette mode)\n",
    "    img = img.convert('RGB')\n",
    "    \n",
    "    # Convert the image to a NumPy array for easier access to pixels\n",
    "    img_array = np.array(img)\n",
    "    \n",
    "    # Reshape the image array to a 2D array where each row is a pixel\n",
    "    img_flat = img_array.reshape(-1, img_array.shape[-1])\n",
    "    \n",
    "    # Convert all pixels from RGB to HSV\n",
    "    hsv_values = [colorsys.rgb_to_hsv(pixel[0]/255.0, pixel[1]/255.0, pixel[2]/255.0) for pixel in img_flat]\n",
    "    \n",
    "    return hsv_values\n"
   ]
  }
 ],
 "metadata": {
  "kernelspec": {
   "display_name": "Python 3",
   "language": "python",
   "name": "python3"
  },
  "language_info": {
   "codemirror_mode": {
    "name": "ipython",
    "version": 3
   },
   "file_extension": ".py",
   "mimetype": "text/x-python",
   "name": "python",
   "nbconvert_exporter": "python",
   "pygments_lexer": "ipython3",
   "version": "3.12.1"
  }
 },
 "nbformat": 4,
 "nbformat_minor": 2
}
